{
 "cells": [
  {
   "cell_type": "code",
   "execution_count": 4,
   "metadata": {},
   "outputs": [
    {
     "name": "stdout",
     "output_type": "stream",
     "text": [
      "('The inverse of matrix ', [[1, 1, 3], [1, 2, 4], [1, 1, 2]], ' is = ', array([[ 0., -1.,  2.],\n",
      "       [-2.,  1.,  1.],\n",
      "       [ 1., -0., -1.]]))\n"
     ]
    }
   ],
   "source": [
    "#Performing matrix inverse\n",
    "import numpy as np\n",
    "\n",
    "A=[[1,1,3],\n",
    "  [1,2,4],\n",
    "  [1,1,2]]\n",
    "Ainv=np.linalg.inv(A)\n",
    "print (\"The inverse of matrix \",A,\" is = \",Ainv)"
   ]
  },
  {
   "cell_type": "code",
   "execution_count": 7,
   "metadata": {},
   "outputs": [
    {
     "name": "stdout",
     "output_type": "stream",
     "text": [
      "('The value of vector r in Ar=s is = ', array([ 3. , -0.5,  0. ]))\n"
     ]
    }
   ],
   "source": [
    "#Solving the system of linear equations instead of taking inverse which is computationally expensive\n",
    "import numpy as np\n",
    "A = [[4, 6, 2],\n",
    "     [3, 4, 1],\n",
    "     [2, 8, 13]]\n",
    "\n",
    "s = [9, 7, 2]\n",
    "\n",
    "r=np.linalg.solve(A,s)\n",
    "\n",
    "print (\"The value of vector r in Ar=s is = \",r )"
   ]
  },
  {
   "cell_type": "code",
   "execution_count": 8,
   "metadata": {},
   "outputs": [
    {
     "name": "stdout",
     "output_type": "stream",
     "text": [
      "('The value of inverse = ', array([[-1.5,  0.5,  0.5],\n",
      "       [ 2. ,  0. , -1. ],\n",
      "       [ 0.5, -0.5,  0.5]]))\n"
     ]
    }
   ],
   "source": [
    "import numpy as np\n",
    "A=[[1,1,1],\n",
    "   [3,2,1],\n",
    "   [2,1,2]]\n",
    "Ainv =np.linalg.inv(A)\n",
    "print (\"The value of inverse = \",Ainv)\n"
   ]
  },
  {
   "cell_type": "code",
   "execution_count": null,
   "metadata": {},
   "outputs": [],
   "source": []
  }
 ],
 "metadata": {
  "kernelspec": {
   "display_name": "Python 2",
   "language": "python",
   "name": "python2"
  },
  "language_info": {
   "codemirror_mode": {
    "name": "ipython",
    "version": 2
   },
   "file_extension": ".py",
   "mimetype": "text/x-python",
   "name": "python",
   "nbconvert_exporter": "python",
   "pygments_lexer": "ipython2",
   "version": "2.7.14"
  }
 },
 "nbformat": 4,
 "nbformat_minor": 2
}
