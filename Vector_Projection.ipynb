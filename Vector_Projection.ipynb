{
 "cells": [
  {
   "cell_type": "code",
   "execution_count": null,
   "metadata": {},
   "outputs": [],
   "source": [
    "# Projection:\n",
    "  The dot product of two vectors is defined as :\n",
    "  * a.b=|a||b|cos(theta)\n",
    "  * The term |b|cos(theta) is defined as the projection of the vector b on to a\n",
    "    Now, if we write :\n",
    "    > (a.b)/|a|=|b|cos(theta), is called the scalar projection\n",
    "    >  a(a.b)/|a||a|= vector projection"
   ]
  }
 ],
 "metadata": {
  "kernelspec": {
   "display_name": "Python 2",
   "language": "python",
   "name": "python2"
  },
  "language_info": {
   "codemirror_mode": {
    "name": "ipython",
    "version": 2
   },
   "file_extension": ".py",
   "mimetype": "text/x-python",
   "name": "python",
   "nbconvert_exporter": "python",
   "pygments_lexer": "ipython2",
   "version": "2.7.14"
  }
 },
 "nbformat": 4,
 "nbformat_minor": 2
}
