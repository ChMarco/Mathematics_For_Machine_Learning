{
 "cells": [
  {
   "cell_type": "code",
   "execution_count": null,
   "metadata": {},
   "outputs": [],
   "source": [
    "#Vectors in Machine Learning:\n",
    "\n",
    "Ans: From a Computer Science point of view,A vector can be defined as a list of numbers.\n",
    "     From a Physical point of view, a vector can be defined as aposition in 3D space.\n",
    "     If we visualize the parameters or features of an entity, a vector can be visualized spatially as\n",
    "     a point in the 3D space.The vector can move in the the N dimensional feature space to find the globally\n",
    "     locally optimum set of features  in the feature space.\n",
    "     So, it is very important to visulize the features as vectors in the N dimensional feature space, so Linear \n",
    "     Algebra routines, and calculus formulaes can be applied in oder to solve them.\n",
    "    "
   ]
  }
 ],
 "metadata": {
  "kernelspec": {
   "display_name": "Python 2",
   "language": "python",
   "name": "python2"
  },
  "language_info": {
   "codemirror_mode": {
    "name": "ipython",
    "version": 2
   },
   "file_extension": ".py",
   "mimetype": "text/x-python",
   "name": "python",
   "nbconvert_exporter": "python",
   "pygments_lexer": "ipython2",
   "version": "2.7.14"
  }
 },
 "nbformat": 4,
 "nbformat_minor": 2
}
