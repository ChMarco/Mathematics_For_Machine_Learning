{
 "cells": [
  {
   "cell_type": "code",
   "execution_count": null,
   "metadata": {},
   "outputs": [],
   "source": [
    " #Modulus  and dot product of vectors\n",
    " # 1. The dot product or the projection product of two vectors can be explained as :\n",
    "      r.s = |r||s|cos(theta) , where theta is the angle between the two vectors\n",
    "      Dot product of two vectors satisfy the following properties:\n",
    "      * r.s = s.r (Commutative)\n",
    "      * r.(s+t) = r.s+r.t (Distributive)\n",
    "      * r.(ks) = k(rs) (Associative over Scalar Multiplication)\n",
    " #2. If two vectors are orthogonal to each other , the the value of :\n",
    "      * r.s = 0 , because the value of cos(90)=0\n",
    "     If two vectors are parallel to each other, then the value of:\n",
    "      * r.s = |r||s|, because the value of cos(0)=1"
   ]
  }
 ],
 "metadata": {
  "kernelspec": {
   "display_name": "Python 2",
   "language": "python",
   "name": "python2"
  },
  "language_info": {
   "codemirror_mode": {
    "name": "ipython",
    "version": 2
   },
   "file_extension": ".py",
   "mimetype": "text/x-python",
   "name": "python",
   "nbconvert_exporter": "python",
   "pygments_lexer": "ipython2",
   "version": "2.7.14"
  }
 },
 "nbformat": 4,
 "nbformat_minor": 2
}
